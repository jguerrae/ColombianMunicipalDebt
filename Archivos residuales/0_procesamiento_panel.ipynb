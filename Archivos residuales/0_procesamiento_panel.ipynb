{
 "cells": [
  {
   "cell_type": "code",
   "execution_count": 1,
   "metadata": {},
   "outputs": [],
   "source": [
    "# warnings.simplefilter(action='ignore', category=FutureWarning)\n",
    "import pandas as pd\n",
    "import openpyxl\n",
    "from tqdm import tqdm\n",
    "import unidecode\n",
    "from fuzzywuzzy import fuzz\n",
    "from fuzzywuzzy import process\n",
    "import warnings\n",
    "import numpy as np\n",
    "import warnings\n",
    "warnings.filterwarnings('ignore')\n",
    "import math\n",
    "from operator import itemgetter"
   ]
  },
  {
   "cell_type": "code",
   "execution_count": 28,
   "metadata": {},
   "outputs": [],
   "source": [
    "alc = pd.read_excel(\"ALCALDIAS_FINAL.xlsx\")\n",
    "alc = alc[alc.date == 2015]"
   ]
  },
  {
   "cell_type": "code",
   "execution_count": 29,
   "metadata": {},
   "outputs": [],
   "source": [
    "df = pd.read_stata(\"PRUEBA_REG_DIS.dta\")"
   ]
  },
  {
   "cell_type": "code",
   "execution_count": 30,
   "metadata": {},
   "outputs": [],
   "source": [
    "df = df.drop(columns=list(alc.columns[4:]))\n",
    "df = df.iloc[:, :11]"
   ]
  },
  {
   "cell_type": "code",
   "execution_count": 34,
   "metadata": {},
   "outputs": [],
   "source": [
    "df = df.merge(alc, \"left\", \"dane\")"
   ]
  },
  {
   "cell_type": "code",
   "execution_count": 37,
   "metadata": {},
   "outputs": [],
   "source": [
    "df.to_csv(\"PRUEBA_REG_DIS2.csv\")"
   ]
  },
  {
   "cell_type": "code",
   "execution_count": 30,
   "metadata": {},
   "outputs": [],
   "source": [
    "#Función para encontrar la coincidencia de nombres con un puntaje mínimo\n",
    "def match_name(name, list_names, min_score=0):\n",
    "    max_score = -1 #Inicializa la puntuación máxima con -1\n",
    "    max_name = \"\" #Inicializa el nombre máximo con una cadena vacía\n",
    "    for name2 in list_names:\n",
    "        score = process.extractOne(name, [name2])[1] #Calcula la puntuación de coincidencia entre 'name' y 'name2'\n",
    "        if (score > min_score) & (score > max_score): #Si la puntuación es mayor que el puntaje mínimo y mayor que el puntaje máximo\n",
    "            max_name = name2 #Actualiza el nombre máximo\n",
    "            max_score = score #Actualiza la puntuación máxima\n",
    "    return max_name, max_score #Retorna el nombre máximo y la puntuación máxima\n",
    "    \n",
    "def dane_dpto(df):\n",
    "    dict_list = []\n",
    "    for name in df['dpto']:\n",
    "        match = match_name(name, dane_codes.keys(), 50) #Encuentra la coincidencia del nombre con los códigos dane\n",
    "\n",
    "        dict_ = {}\n",
    "        dict_.update({\"dpto\" : name}) \n",
    "        dict_.update({\"match_name\" : match[0]}) #Actualiza el nombre de la coincidencia\n",
    "        dict_.update({\"score\" : match[1]}) #Actualiza la puntuación de la coincidencia\n",
    "        dict_list.append(dict_) #Añade el diccionario a la lista\n",
    "        \n",
    "    merge_table = pd.DataFrame(dict_list)\n",
    "\n",
    "    df['dane'] = merge_table['match_name'].map(dane_codes) #Mapea el nombre de la coincidencia con los códigos dane\n",
    "\n",
    "    return df #Retorna el dataframe\n",
    "\n",
    "dane_codes = {\n",
    "    'Amazonas': '91',\n",
    "    'Antioquia': '05',\n",
    "    'Arauca': '81',\n",
    "    'Atlántico': '08',\n",
    "    'Bolívar': '13',\n",
    "    'Boyacá': '15',\n",
    "    'Caldas': '17',\n",
    "    'Caquetá': '18',\n",
    "    'Casanare': '85',\n",
    "    'Cauca': '19',\n",
    "    'Cesar': '20',\n",
    "    'Chocó': '27',\n",
    "    'Córdoba': '23',\n",
    "    'Cundinamarca': '25',\n",
    "    'Guainía': '94',\n",
    "    'Guaviare': '95',\n",
    "    'Huila': '41',\n",
    "    'La Guajira': '44',\n",
    "    'Magdalena': '47',\n",
    "    'Meta': '50',\n",
    "    'Nariño': '52',\n",
    "    'Norte de Santander': '54',\n",
    "    'Putumayo': '86',\n",
    "    'Quindío': '63',\n",
    "    'Risaralda': '66',\n",
    "    'San Andrés y Providencia': '88',\n",
    "    'Santander': '68',\n",
    "    'Sucre': '70',\n",
    "    'Tolima': '73',\n",
    "    'Valle del Cauca': '76',\n",
    "    'Vaupés': '97',\n",
    "    'Vichada': '99',\n",
    "    'Bogotá, D.C.': '11'\n",
    "}"
   ]
  },
  {
   "cell_type": "code",
   "execution_count": null,
   "metadata": {},
   "outputs": [],
   "source": []
  },
  {
   "cell_type": "code",
   "execution_count": 57,
   "metadata": {},
   "outputs": [],
   "source": [
    "alc = pd.read_excel(\"ALCALDIAS_FINAL.xlsx\")\n",
    "alc19 = alc[alc.date==2019]"
   ]
  },
  {
   "cell_type": "code",
   "execution_count": 58,
   "metadata": {},
   "outputs": [],
   "source": [
    "gob = pd.read_excel(\"GOBERNACIONES_FINAL.xlsx\")\n",
    "gob19 = gob[gob.date==2019]\n",
    "gob19[\"date\"] = gob19[\"date\"].astype(int)\n",
    "gob19[\"dane\"] = gob19[\"dane\"].astype(int)"
   ]
  },
  {
   "cell_type": "code",
   "execution_count": 59,
   "metadata": {},
   "outputs": [],
   "source": [
    "poblacion = pd.read_stata(\"CEDE//poblacion.dta\")\n",
    "poblacion.columns = [\"dane\", \"dpto\", \"municipio\", \"date\", \"population\"]\n",
    "poblaciondpt = poblacion.groupby([\"dpto\", \"date\"]).sum().reset_index()"
   ]
  },
  {
   "cell_type": "code",
   "execution_count": 60,
   "metadata": {},
   "outputs": [],
   "source": [
    "poblaciondpt = dane_dpto(poblaciondpt)\n",
    "poblaciondpt[\"date\"] = poblaciondpt[\"date\"].astype(int)\n",
    "poblaciondpt[\"dane\"] = poblaciondpt[\"dane\"].astype(int)"
   ]
  },
  {
   "cell_type": "code",
   "execution_count": 61,
   "metadata": {},
   "outputs": [],
   "source": [
    "gob19 = pd.merge(gob19, poblaciondpt[[\"dane\", \"date\", \"population\"]], \"left\", [\"dane\", \"date\"])"
   ]
  },
  {
   "cell_type": "code",
   "execution_count": 62,
   "metadata": {},
   "outputs": [],
   "source": [
    "alc19 = pd.merge(alc19, poblacion[[\"dane\", \"date\", \"population\"]], \"left\", [\"dane\", \"date\"])"
   ]
  },
  {
   "cell_type": "code",
   "execution_count": 63,
   "metadata": {},
   "outputs": [],
   "source": [
    "entidades = pd.concat([alc19,gob19])"
   ]
  },
  {
   "cell_type": "code",
   "execution_count": 73,
   "metadata": {},
   "outputs": [],
   "source": [
    "deuda = pd.read_excel(\"DEUDA.xlsx\")\n",
    "deuda = deuda[['id', 'entidad', 'tipo_entidad', 'id_dpt', 'año',\n",
    "       'saldo_deuda($) ']]\n",
    "deuda.columns = [\"dane\", \"entidad\", \"tipo\", \"id_dpto\", \"date\", \"deuda\"]"
   ]
  },
  {
   "cell_type": "code",
   "execution_count": 74,
   "metadata": {},
   "outputs": [],
   "source": [
    "deuda_fv = pd.merge(deuda, entidades.drop(columns = [\"date\"]), \"left\", [\"dane\"])"
   ]
  },
  {
   "cell_type": "code",
   "execution_count": 76,
   "metadata": {},
   "outputs": [],
   "source": [
    "deuda_fv = deuda_fv[deuda_fv.date>=2015]"
   ]
  },
  {
   "cell_type": "code",
   "execution_count": 85,
   "metadata": {},
   "outputs": [],
   "source": [
    "deuda_fv = deuda_fv[(deuda_fv.tipo==\"Departamento\") | (deuda_fv.tipo==\"Municipio\")]"
   ]
  },
  {
   "cell_type": "code",
   "execution_count": 86,
   "metadata": {},
   "outputs": [],
   "source": [
    "deuda_fv[\"deuda_pc\"] = deuda_fv[\"deuda\"]/deuda_fv[\"population\"]"
   ]
  },
  {
   "cell_type": "code",
   "execution_count": 88,
   "metadata": {},
   "outputs": [],
   "source": [
    "deuda_fv.to_csv(\"BASE3.csv\", index = False)"
   ]
  },
  {
   "cell_type": "markdown",
   "metadata": {},
   "source": [
    "### Series de deuda"
   ]
  },
  {
   "cell_type": "code",
   "execution_count": 14,
   "metadata": {},
   "outputs": [],
   "source": [
    "deuda = pd.read_excel(\"DEUDA.xlsx\")\n",
    "deuda = deuda[['id', 'entidad', 'tipo_entidad', 'id_dpt', 'año',\n",
    "       'saldo_deuda($) ']]\n",
    "deuda.columns = [\"dane\", \"entidad\", \"tipo\", \"id_dpto\", \"date\", \"deuda\"]"
   ]
  },
  {
   "cell_type": "markdown",
   "metadata": {},
   "source": [
    "### Series de ingresos"
   ]
  },
  {
   "cell_type": "code",
   "execution_count": 15,
   "metadata": {},
   "outputs": [],
   "source": [
    "ingresos = pd.read_stata(\"CEDE//PANEL_BUEN_GOBIERNO(2022).dta\")\n",
    "Ys = [\"deficit_total\", \"g_cap_resto\", \"g_cap_FBKF\", \"g_cap\",  \"y_corr\", \"DF_ing_func\", \"DF_ing_propios\"]\n",
    "ingresos = ingresos[[\"codmpio\", \"ano\"] + Ys]\n",
    "ingresos.columns = [\"dane\", \"date\", \"deficit_total\", \"g_cap_resto\", \"g_cap_fbkf\", \"g_cap\", \"y_corr\", \"df_ing_func\", \"df_ing_propios\"]"
   ]
  },
  {
   "cell_type": "code",
   "execution_count": 44,
   "metadata": {},
   "outputs": [],
   "source": [
    "ingresos[\"df_ing_func\"] = ingresos[\"df_ing_func\"]/100\n",
    "ingresos[\"df_ing_propios\"] = ingresos[\"df_ing_propios\"]/100\n",
    "\n",
    "ingresos[\"y_corr_func\"]    = ingresos[\"df_ing_func\"]    * ingresos[\"y_corr\"]\n",
    "ingresos[\"y_corr_propios\"] = ingresos[\"df_ing_propios\"] * ingresos[\"y_corr\"]"
   ]
  },
  {
   "cell_type": "code",
   "execution_count": 56,
   "metadata": {},
   "outputs": [],
   "source": [
    "df_temp = pd.merge(deuda, ingresos,on=['dane', 'date'])"
   ]
  },
  {
   "cell_type": "markdown",
   "metadata": {},
   "source": [
    "### Población"
   ]
  },
  {
   "cell_type": "code",
   "execution_count": 18,
   "metadata": {},
   "outputs": [],
   "source": [
    "poblacion = pd.read_stata(\"CEDE//poblacion.dta\")\n",
    "poblacion.columns = [\"dane\", \"dpto\", \"municipio\", \"date\", \"population\"]\n",
    "# poblacion = poblacion[[\"dane\", \"date\", \"population\"]]\n",
    "\n",
    "# poblacion = poblacion[poblacion.date==2015]\n",
    "# poblacion = poblacion[[\"dane\", \"population\"]]"
   ]
  },
  {
   "cell_type": "markdown",
   "metadata": {},
   "source": [
    "### Pegue de series"
   ]
  },
  {
   "cell_type": "code",
   "execution_count": 57,
   "metadata": {},
   "outputs": [],
   "source": [
    "dff = pd.merge(df_temp, poblacion,on=['dane'])"
   ]
  },
  {
   "cell_type": "code",
   "execution_count": 58,
   "metadata": {},
   "outputs": [],
   "source": [
    "Yiniciales = ['deuda', 'deficit_total','g_cap_resto', 'g_cap_fbkf', 'g_cap', 'y_corr', 'y_corr_func', 'y_corr_propios']"
   ]
  },
  {
   "cell_type": "code",
   "execution_count": 59,
   "metadata": {},
   "outputs": [],
   "source": [
    "for i in Yiniciales:\n",
    "    dff[f\"{i}_pc\"] = dff[i]/dff[\"population\"]"
   ]
  },
  {
   "cell_type": "code",
   "execution_count": 64,
   "metadata": {},
   "outputs": [],
   "source": [
    "dff = dff[(dff.date>=2012) & (dff.date<=2019)]"
   ]
  },
  {
   "cell_type": "code",
   "execution_count": 65,
   "metadata": {},
   "outputs": [],
   "source": [
    "dff = pd.merge(dff, alc19.drop(columns = [\"date\"]), \"left\", \"dane\")"
   ]
  },
  {
   "cell_type": "code",
   "execution_count": 66,
   "metadata": {},
   "outputs": [],
   "source": [
    "dff.to_csv(\"PRUEBA2.csv\", index = False)"
   ]
  },
  {
   "cell_type": "code",
   "execution_count": null,
   "metadata": {},
   "outputs": [],
   "source": []
  },
  {
   "cell_type": "code",
   "execution_count": null,
   "metadata": {},
   "outputs": [],
   "source": []
  },
  {
   "cell_type": "code",
   "execution_count": 24,
   "metadata": {},
   "outputs": [],
   "source": [
    "poblaciondpt = poblacion.groupby([\"dpto\", \"date\"]).sum().reset_index()"
   ]
  },
  {
   "cell_type": "code",
   "execution_count": null,
   "metadata": {},
   "outputs": [],
   "source": []
  },
  {
   "cell_type": "code",
   "execution_count": null,
   "metadata": {},
   "outputs": [],
   "source": []
  },
  {
   "cell_type": "code",
   "execution_count": null,
   "metadata": {},
   "outputs": [],
   "source": []
  },
  {
   "cell_type": "code",
   "execution_count": null,
   "metadata": {},
   "outputs": [],
   "source": []
  },
  {
   "cell_type": "code",
   "execution_count": null,
   "metadata": {},
   "outputs": [],
   "source": []
  },
  {
   "cell_type": "code",
   "execution_count": null,
   "metadata": {},
   "outputs": [],
   "source": []
  },
  {
   "cell_type": "code",
   "execution_count": null,
   "metadata": {},
   "outputs": [],
   "source": []
  },
  {
   "cell_type": "code",
   "execution_count": null,
   "metadata": {},
   "outputs": [],
   "source": []
  },
  {
   "cell_type": "markdown",
   "metadata": {},
   "source": [
    "### Regresiones"
   ]
  },
  {
   "cell_type": "code",
   "execution_count": null,
   "metadata": {},
   "outputs": [],
   "source": []
  },
  {
   "cell_type": "code",
   "execution_count": null,
   "metadata": {},
   "outputs": [],
   "source": [
    "import statsmodels.api as sm\n",
    "from tqdm import tqdm\n",
    "import seaborn as sns\n",
    "import statsmodels.formula.api as smf\n",
    "from scipy.stats import norm"
   ]
  },
  {
   "cell_type": "code",
   "execution_count": null,
   "metadata": {},
   "outputs": [],
   "source": [
    "Yn = [\"DEUDA\", \"deficit_total\", \"g_cap_resto\", \"g_cap_FBKF\", \"g_cap\",  \"y_corr\"]\n",
    "Yp = [\"DINGP\", \"DINGF\", \"DING\", \"DF_ing_func\", \"DF_ing_propios\"]"
   ]
  },
  {
   "cell_type": "code",
   "execution_count": null,
   "metadata": {},
   "outputs": [
    {
     "name": "stderr",
     "output_type": "stream",
     "text": [
      "<ipython-input-609-b50f1a03cbac>:2: SettingWithCopyWarning: \n",
      "A value is trying to be set on a copy of a slice from a DataFrame.\n",
      "Try using .loc[row_indexer,col_indexer] = value instead\n",
      "\n",
      "See the caveats in the documentation: https://pandas.pydata.org/pandas-docs/stable/user_guide/indexing.html#returning-a-view-versus-a-copy\n",
      "  dfr[f\"T_{año}\"] = (dfr[\"AÑO\"]>=año).astype(int) * dfr[\"T1\"]\n",
      "<ipython-input-609-b50f1a03cbac>:2: SettingWithCopyWarning: \n",
      "A value is trying to be set on a copy of a slice from a DataFrame.\n",
      "Try using .loc[row_indexer,col_indexer] = value instead\n",
      "\n",
      "See the caveats in the documentation: https://pandas.pydata.org/pandas-docs/stable/user_guide/indexing.html#returning-a-view-versus-a-copy\n",
      "  dfr[f\"T_{año}\"] = (dfr[\"AÑO\"]>=año).astype(int) * dfr[\"T1\"]\n",
      "<ipython-input-609-b50f1a03cbac>:2: SettingWithCopyWarning: \n",
      "A value is trying to be set on a copy of a slice from a DataFrame.\n",
      "Try using .loc[row_indexer,col_indexer] = value instead\n",
      "\n",
      "See the caveats in the documentation: https://pandas.pydata.org/pandas-docs/stable/user_guide/indexing.html#returning-a-view-versus-a-copy\n",
      "  dfr[f\"T_{año}\"] = (dfr[\"AÑO\"]>=año).astype(int) * dfr[\"T1\"]\n",
      "<ipython-input-609-b50f1a03cbac>:2: SettingWithCopyWarning: \n",
      "A value is trying to be set on a copy of a slice from a DataFrame.\n",
      "Try using .loc[row_indexer,col_indexer] = value instead\n",
      "\n",
      "See the caveats in the documentation: https://pandas.pydata.org/pandas-docs/stable/user_guide/indexing.html#returning-a-view-versus-a-copy\n",
      "  dfr[f\"T_{año}\"] = (dfr[\"AÑO\"]>=año).astype(int) * dfr[\"T1\"]\n",
      "<ipython-input-609-b50f1a03cbac>:2: SettingWithCopyWarning: \n",
      "A value is trying to be set on a copy of a slice from a DataFrame.\n",
      "Try using .loc[row_indexer,col_indexer] = value instead\n",
      "\n",
      "See the caveats in the documentation: https://pandas.pydata.org/pandas-docs/stable/user_guide/indexing.html#returning-a-view-versus-a-copy\n",
      "  dfr[f\"T_{año}\"] = (dfr[\"AÑO\"]>=año).astype(int) * dfr[\"T1\"]\n",
      "<ipython-input-609-b50f1a03cbac>:2: SettingWithCopyWarning: \n",
      "A value is trying to be set on a copy of a slice from a DataFrame.\n",
      "Try using .loc[row_indexer,col_indexer] = value instead\n",
      "\n",
      "See the caveats in the documentation: https://pandas.pydata.org/pandas-docs/stable/user_guide/indexing.html#returning-a-view-versus-a-copy\n",
      "  dfr[f\"T_{año}\"] = (dfr[\"AÑO\"]>=año).astype(int) * dfr[\"T1\"]\n"
     ]
    }
   ],
   "source": [
    "for año in [2015,2016,2017,2019,2020,2021]:\n",
    "    dfr[f\"T_{año}\"] = (dfr[\"AÑO\"]>=año).astype(int) * dfr[\"T1\"]"
   ]
  },
  {
   "cell_type": "code",
   "execution_count": null,
   "metadata": {},
   "outputs": [],
   "source": [
    "Yn = [\"DEUDA\"]\n",
    "Yn = [\"DEUDA\", \"deficit_total\", \"g_cap_resto\", \"g_cap_FBKF\", \"g_cap\",  \"y_corr\"]"
   ]
  },
  {
   "cell_type": "code",
   "execution_count": null,
   "metadata": {},
   "outputs": [
    {
     "name": "stdout",
     "output_type": "stream",
     "text": [
      "DINGP_PC ** -0.37091978712196516 *** 0.3573610690364498\n",
      "DINGF_PC ** -0.6493295513931965 *** 0.7138385854653307\n",
      "DING_PC ** -0.2883477856346563 *** 0.301856668088509\n",
      "DF_ing_func_PC ** 4.321006642323391 *** 47.535932263155686\n",
      "DF_ing_propios_PC ** 1.680907080525125 *** 84.03779769478793\n"
     ]
    },
    {
     "name": "stderr",
     "output_type": "stream",
     "text": [
      "<ipython-input-729-eb699b5ada2b>:5: SettingWithCopyWarning: \n",
      "A value is trying to be set on a copy of a slice from a DataFrame.\n",
      "Try using .loc[row_indexer,col_indexer] = value instead\n",
      "\n",
      "See the caveats in the documentation: https://pandas.pydata.org/pandas-docs/stable/user_guide/indexing.html#returning-a-view-versus-a-copy\n",
      "  dfr[f\"{y}_PC\"] = dfr[f\"{y}\"].copy()\n",
      "<ipython-input-729-eb699b5ada2b>:5: SettingWithCopyWarning: \n",
      "A value is trying to be set on a copy of a slice from a DataFrame.\n",
      "Try using .loc[row_indexer,col_indexer] = value instead\n",
      "\n",
      "See the caveats in the documentation: https://pandas.pydata.org/pandas-docs/stable/user_guide/indexing.html#returning-a-view-versus-a-copy\n",
      "  dfr[f\"{y}_PC\"] = dfr[f\"{y}\"].copy()\n",
      "<ipython-input-729-eb699b5ada2b>:5: SettingWithCopyWarning: \n",
      "A value is trying to be set on a copy of a slice from a DataFrame.\n",
      "Try using .loc[row_indexer,col_indexer] = value instead\n",
      "\n",
      "See the caveats in the documentation: https://pandas.pydata.org/pandas-docs/stable/user_guide/indexing.html#returning-a-view-versus-a-copy\n",
      "  dfr[f\"{y}_PC\"] = dfr[f\"{y}\"].copy()\n",
      "<ipython-input-729-eb699b5ada2b>:5: SettingWithCopyWarning: \n",
      "A value is trying to be set on a copy of a slice from a DataFrame.\n",
      "Try using .loc[row_indexer,col_indexer] = value instead\n",
      "\n",
      "See the caveats in the documentation: https://pandas.pydata.org/pandas-docs/stable/user_guide/indexing.html#returning-a-view-versus-a-copy\n",
      "  dfr[f\"{y}_PC\"] = dfr[f\"{y}\"].copy()\n",
      "<ipython-input-729-eb699b5ada2b>:5: SettingWithCopyWarning: \n",
      "A value is trying to be set on a copy of a slice from a DataFrame.\n",
      "Try using .loc[row_indexer,col_indexer] = value instead\n",
      "\n",
      "See the caveats in the documentation: https://pandas.pydata.org/pandas-docs/stable/user_guide/indexing.html#returning-a-view-versus-a-copy\n",
      "  dfr[f\"{y}_PC\"] = dfr[f\"{y}\"].copy()\n"
     ]
    }
   ],
   "source": [
    "p = []\n",
    "for y in Yp:\n",
    "\n",
    "    # dfr[f\"{y}_PC\"] = dfr[f\"{y}\"]/dfr[\"POBLACION\"]\n",
    "    dfr[f\"{y}_PC\"] = dfr[f\"{y}\"].copy()\n",
    "    data_f = dfr.dropna(subset=[f\"{y}_PC\", \"T1\", \"P2019\", \"ID_DPTO\"])\n",
    "    data_f = data_f[(data_f[\"AÑO\"] > 2015) & (data_f[\"DIFERENCIA_GANADOR19\"]<1) & (data_f[\"POBLACION\"]>100000)]\n",
    "    data_f = data_f.dropna(subset=[f\"{y}\", \"T1\", \"P2019\", \"ID_DPTO\"])\n",
    "    formula = f\"{y}_PC~ T1*P2019\"  \n",
    "    model = smf.ols(formula, data=data_f).fit()\n",
    "    model = model.get_robustcov_results(cov_type='cluster', groups=data_f['ID_DPTO'])\n",
    "    coef = model.params[-1]\n",
    "    pvalue = model.pvalues[-1]\n",
    "\n",
    "    p.append(pvalue)\n",
    "    if pvalue < 0.1:\n",
    "        print(f\"{y}_PC\", \"**\", coef, \"***\", model.params[0])\n"
   ]
  }
 ],
 "metadata": {
  "kernelspec": {
   "display_name": "base",
   "language": "python",
   "name": "python3"
  },
  "language_info": {
   "codemirror_mode": {
    "name": "ipython",
    "version": 3
   },
   "file_extension": ".py",
   "mimetype": "text/x-python",
   "name": "python",
   "nbconvert_exporter": "python",
   "pygments_lexer": "ipython3",
   "version": "3.8.5"
  },
  "orig_nbformat": 4
 },
 "nbformat": 4,
 "nbformat_minor": 2
}

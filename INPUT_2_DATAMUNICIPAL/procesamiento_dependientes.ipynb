{
 "cells": [
  {
   "cell_type": "code",
   "execution_count": 1,
   "metadata": {},
   "outputs": [],
   "source": [
    "import pandas as pd\n",
    "import openpyxl\n",
    "from tqdm import tqdm\n",
    "import unidecode\n",
    "from fuzzywuzzy import fuzz\n",
    "from fuzzywuzzy import process\n",
    "import warnings\n",
    "import numpy as np\n",
    "import warnings\n",
    "warnings.filterwarnings('ignore')\n",
    "import math\n",
    "from operator import itemgetter\n",
    "\n",
    "import unidecode\n",
    "import string\n",
    "import re\n",
    "from fuzzywuzzy import fuzz\n",
    "import os"
   ]
  },
  {
   "cell_type": "markdown",
   "metadata": {},
   "source": [
    "## Dependientes"
   ]
  },
  {
   "cell_type": "markdown",
   "metadata": {},
   "source": [
    "### Población"
   ]
  },
  {
   "cell_type": "code",
   "execution_count": 2,
   "metadata": {},
   "outputs": [],
   "source": [
    "##########################################################################################\n",
    "poblacion = pd.read_stata(\"CEDE//poblacion.dta\")\n",
    "poblacion.columns = [\"dane\", \"dpto\", \"municipio\", \"date\", \"population\"]\n",
    "\n",
    "\n",
    "##########################################################################################\n",
    "data_to_add = []\n",
    "dane_codes = poblacion['dane'].unique()\n",
    "\n",
    "for code in dane_codes:\n",
    "    subset = poblacion[poblacion['dane'] == code].iloc[0]\n",
    "    dpto = subset['dpto']\n",
    "    municipio = subset['municipio']\n",
    "    for year in range(1990, 2015):\n",
    "        data_to_add.append([code, dpto, municipio, year, np.nan])\n",
    "\n",
    "df_to_add = pd.DataFrame(data_to_add, columns=['dane', 'dpto', 'municipio', 'date', 'population'])\n",
    "poblacion_extended = pd.concat([poblacion, df_to_add])\n",
    "poblacion = poblacion_extended.sort_values(by=['dane', 'date'])\n",
    "\n",
    "#########################################\n",
    "crecimiento = pd.read_excel(\"CEDE//crecimiento_poblacion.xlsx\")\n",
    "crecimiento[\"g\"] = crecimiento[\"growth\"]/100\n",
    "\n",
    "poblacion = poblacion.merge(crecimiento, \"left\", \"date\")\n",
    "\n",
    "##########################################################################################\n",
    "def fill_population(data):\n",
    "    for i in reversed(data.index[:-1]):  # Comenzamos desde el penúltimo y retrocedemos\n",
    "        if pd.isna(data.at[i, 'population']):\n",
    "            next_year_population = data.at[i+1, 'population']\n",
    "            growth_rate = data.at[i, 'growth']\n",
    "            data.at[i, 'population'] = next_year_population / (growth_rate / 100 + 1)\n",
    "    return data\n",
    "\n",
    "\n",
    "poblacion = poblacion.groupby(['dane']).apply(fill_population)\n",
    "poblacion.reset_index(drop=True, inplace=True)\n",
    "\n",
    "##########################################################################################\n",
    "poblacion = poblacion[[\"dane\", \"date\", \"population\"]]\n",
    "poblacion = poblacion.rename(columns = {\"dane\":\"codmpio\"})\n"
   ]
  },
  {
   "cell_type": "markdown",
   "metadata": {},
   "source": [
    "### Deuda (BANREP)"
   ]
  },
  {
   "cell_type": "code",
   "execution_count": 3,
   "metadata": {},
   "outputs": [],
   "source": [
    "deuda = pd.read_excel(\"DEUDA.xlsx\")\n",
    "deuda = deuda[['id', 'entidad', 'tipo_entidad', 'id_dpt', 'año',\n",
    "       'saldo_deuda($) ']]\n",
    "deuda.columns = [\"codmpio\", \"entidad\", \"tipo\", \"id_dpto\", \"date\", \"deuda\"]\n",
    "deuda = deuda[[\"codmpio\", \"id_dpto\", \"date\", \"deuda\"]]"
   ]
  },
  {
   "cell_type": "markdown",
   "metadata": {},
   "source": [
    "### Panel municipal"
   ]
  },
  {
   "cell_type": "code",
   "execution_count": 4,
   "metadata": {},
   "outputs": [],
   "source": [
    "#Millones de pesos corrientes"
   ]
  },
  {
   "cell_type": "code",
   "execution_count": 5,
   "metadata": {},
   "outputs": [],
   "source": [
    "bg = pd.read_stata(\"CEDE//PANEL_BUEN_GOBIERNO(2022).dta\")\n",
    "bg = bg[['codmpio', 'ano', 'y_total', 'y_corr', 'y_corr_tribut', 'y_no_tribut', 'y_transf', 'g_total', 'g_corr', 'g_func', 'g_cap', 'y_cap', 'y_cap_regalias', 'g_int_deudap', 'deficit_total', 'finan',  'finan_credito']]\n",
    "bg = bg.rename(columns= {\"ano\": \"date\"})"
   ]
  },
  {
   "cell_type": "markdown",
   "metadata": {},
   "source": [
    "### Merge"
   ]
  },
  {
   "cell_type": "code",
   "execution_count": null,
   "metadata": {},
   "outputs": [],
   "source": [
    "df = pd.merge(poblacion, deuda, \"left\", [\"codmpio\", \"date\"])\n",
    "df = df.merge(bg, \"left\", [\"codmpio\", \"date\"])\n",
    "for column in df.columns[4:]:\n",
    "    df[f\"{column}_pc\"] = df[f\"{column}\"]/df[\"population\"]"
   ]
  },
  {
   "cell_type": "code",
   "execution_count": null,
   "metadata": {},
   "outputs": [],
   "source": [
    "df.to_csv(\"dependientes.csv\", index = False)"
   ]
  },
  {
   "cell_type": "code",
   "execution_count": null,
   "metadata": {},
   "outputs": [],
   "source": []
  }
 ],
 "metadata": {
  "kernelspec": {
   "display_name": "base",
   "language": "python",
   "name": "python3"
  },
  "language_info": {
   "codemirror_mode": {
    "name": "ipython",
    "version": 3
   },
   "file_extension": ".py",
   "mimetype": "text/x-python",
   "name": "python",
   "nbconvert_exporter": "python",
   "pygments_lexer": "ipython3",
   "version": "3.8.5"
  },
  "orig_nbformat": 4
 },
 "nbformat": 4,
 "nbformat_minor": 2
}

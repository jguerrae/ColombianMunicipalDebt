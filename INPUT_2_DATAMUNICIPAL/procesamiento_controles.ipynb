{
 "cells": [
  {
   "cell_type": "code",
   "execution_count": 2,
   "metadata": {},
   "outputs": [],
   "source": [
    "import pandas as pd\n",
    "import openpyxl\n",
    "from tqdm import tqdm\n",
    "import unidecode\n",
    "from fuzzywuzzy import fuzz\n",
    "from fuzzywuzzy import process\n",
    "import warnings\n",
    "import numpy as np\n",
    "import warnings\n",
    "warnings.filterwarnings('ignore')\n",
    "import math\n",
    "from operator import itemgetter\n",
    "\n",
    "import unidecode\n",
    "import string\n",
    "import re\n",
    "from fuzzywuzzy import fuzz\n",
    "import os\n",
    "\n",
    "import glob as f"
   ]
  },
  {
   "cell_type": "markdown",
   "metadata": {},
   "source": [
    "## Dependientes"
   ]
  },
  {
   "cell_type": "code",
   "execution_count": 3,
   "metadata": {},
   "outputs": [
    {
     "name": "stdout",
     "output_type": "stream",
     "text": [
      "['SGP_educaciontot', 'SGP_educacion_ps', 'SGP_educacion_c', 'SGP_educacion_cg', 'SGP_educacion_cm', 'SGP_saludtot', 'inv_en_salud', 'DI_capadmin', 'SGP_pinfancia', 'IGA_atencion_ciud', 'IGA_sisben']\n"
     ]
    }
   ],
   "source": [
    "print(\"SGP_educaciontot SGP_educacion_ps SGP_educacion_c SGP_educacion_cg SGP_educacion_cm SGP_saludtot inv_en_salud DI_capadmin SGP_pinfancia IGA_atencion_ciud IGA_sisben\".split(\" \"))"
   ]
  },
  {
   "cell_type": "markdown",
   "metadata": {},
   "source": [
    "### Panel municipal"
   ]
  },
  {
   "cell_type": "code",
   "execution_count": null,
   "metadata": {},
   "outputs": [],
   "source": []
  },
  {
   "cell_type": "code",
   "execution_count": 4,
   "metadata": {},
   "outputs": [],
   "source": [
    "bg = pd.read_stata(\"CEDE//PANEL_DE_EDUCACION(2021).dta\")\n",
    "bg = bg[['codmpio', 'ano', 'docen_total', 'n_icfes', 'pobsimple_primaria', 'pobsimple_secund', 'ind_alfa']]\n",
    "bg = bg.rename(columns= {\"ano\": \"date\"})\n",
    "bg['date'] = bg['date'].dt.year\n",
    "ed = bg.copy()"
   ]
  },
  {
   "cell_type": "code",
   "execution_count": 5,
   "metadata": {},
   "outputs": [],
   "source": [
    "bg = pd.read_stata(\"CEDE//PANEL_CARACTERISTICAS_GENERALES(2022).dta\")\n",
    "bg = bg[['codmpio', 'ano', 'gandina', 'gcaribe', 'gpacifica', 'gorinoquia', 'gamazonia', 'nbi', 'pobreza', 'gini', 'altura', 'areaoficialkm2']]\n",
    "bg = bg.rename(columns= {\"ano\": \"date\"})\n",
    "# bg['date'] = bg['date'].dt.year\n",
    "cg = bg.copy()"
   ]
  },
  {
   "cell_type": "code",
   "execution_count": 9,
   "metadata": {},
   "outputs": [],
   "source": [
    "bg = pd.read_stata(\"CEDE//PANEL_BUEN_GOBIERNO(2022).dta\")\n",
    "bg = bg[['codmpio', 'ano', 'SGP_educaciontot', 'SGP_educacion_ps', 'SGP_educacion_c', 'SGP_educacion_cg', 'SGP_educacion_cm', 'SGP_saludtot', 'inv_en_salud', 'DI_capadmin', 'SGP_pinfancia', 'IGA_atencion_ciud', 'IGA_sisben']]\n",
    "bg = bg.rename(columns= {\"ano\": \"date\"})\n",
    "# bg['date'] = bg['date'].dt.year\n",
    "bg = bg.copy()"
   ]
  },
  {
   "cell_type": "code",
   "execution_count": 10,
   "metadata": {},
   "outputs": [],
   "source": [
    "df  = pd.merge(ed,cg, \"outer\", [\"codmpio\", \"date\"])\n",
    "df  = pd.merge(df,bg, \"outer\", [\"codmpio\", \"date\"])"
   ]
  },
  {
   "cell_type": "code",
   "execution_count": null,
   "metadata": {},
   "outputs": [],
   "source": [
    "df.to_csv(\"controles.csv\", index = False)"
   ]
  },
  {
   "cell_type": "code",
   "execution_count": null,
   "metadata": {},
   "outputs": [],
   "source": []
  }
 ],
 "metadata": {
  "kernelspec": {
   "display_name": "base",
   "language": "python",
   "name": "python3"
  },
  "language_info": {
   "codemirror_mode": {
    "name": "ipython",
    "version": 3
   },
   "file_extension": ".py",
   "mimetype": "text/x-python",
   "name": "python",
   "nbconvert_exporter": "python",
   "pygments_lexer": "ipython3",
   "version": "3.8.5"
  },
  "orig_nbformat": 4
 },
 "nbformat": 4,
 "nbformat_minor": 2
}

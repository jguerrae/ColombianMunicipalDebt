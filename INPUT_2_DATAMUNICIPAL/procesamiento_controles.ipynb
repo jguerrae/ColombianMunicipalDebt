{
 "cells": [
  {
   "cell_type": "code",
   "execution_count": 113,
   "metadata": {},
   "outputs": [],
   "source": [
    "import pandas as pd\n",
    "import openpyxl\n",
    "from tqdm import tqdm\n",
    "import unidecode\n",
    "from fuzzywuzzy import fuzz\n",
    "from fuzzywuzzy import process\n",
    "import warnings\n",
    "import numpy as np\n",
    "import warnings\n",
    "warnings.filterwarnings('ignore')\n",
    "import math\n",
    "from operator import itemgetter\n",
    "\n",
    "import unidecode\n",
    "import string\n",
    "import re\n",
    "from fuzzywuzzy import fuzz\n",
    "import os\n",
    "\n",
    "import glob as f"
   ]
  },
  {
   "cell_type": "markdown",
   "metadata": {},
   "source": [
    "## Dependientes"
   ]
  },
  {
   "cell_type": "code",
   "execution_count": 114,
   "metadata": {},
   "outputs": [
    {
     "name": "stdout",
     "output_type": "stream",
     "text": [
      "['SGP_educaciontot', 'SGP_educacion_ps', 'SGP_educacion_c', 'SGP_educacion_cg', 'SGP_educacion_cm', 'SGP_saludtot', 'inv_en_salud', 'DI_capadmin', 'SGP_pinfancia', 'IGA_atencion_ciud', 'IGA_sisben']\n"
     ]
    }
   ],
   "source": [
    "print(\"SGP_educaciontot SGP_educacion_ps SGP_educacion_c SGP_educacion_cg SGP_educacion_cm SGP_saludtot inv_en_salud DI_capadmin SGP_pinfancia IGA_atencion_ciud IGA_sisben\".split(\" \"))"
   ]
  },
  {
   "cell_type": "markdown",
   "metadata": {},
   "source": [
    "### Panel municipal"
   ]
  },
  {
   "cell_type": "code",
   "execution_count": 115,
   "metadata": {},
   "outputs": [],
   "source": [
    "bg = pd.read_stata(\"PANEL_DE_EDUCACION(2021).dta\")\n",
    "bg = bg[['codmpio', 'ano', 'docen_total', 'n_icfes', 'pobsimple_primaria', 'pobsimple_secund', 'ind_alfa', 's11_total']]\n",
    "bg = bg.rename(columns= {\"ano\": \"date\"})\n",
    "bg['date'] = bg['date'].dt.year\n",
    "ed = bg.copy()"
   ]
  },
  {
   "cell_type": "code",
   "execution_count": 116,
   "metadata": {},
   "outputs": [],
   "source": [
    "bg = pd.read_stata(\"PANEL_CARACTERISTICAS_GENERALES(2022).dta\")\n",
    "bg = bg[['codmpio', 'ano', 'gandina', 'gcaribe', 'gpacifica', 'gorinoquia', 'gamazonia', \n",
    "        'nbi', 'pobreza', 'gini', 'altura', 'areaoficialkm2', 'ao_crea', 'coddepto', \n",
    "        'indrural', 'discapital', 'pobl_tot']]\n",
    "\n",
    "bg = bg.rename(columns= {\"ano\": \"date\"})\n",
    "# bg['date'] = bg['date'].dt.year\n",
    "cg = bg.copy()"
   ]
  },
  {
   "cell_type": "code",
   "execution_count": 117,
   "metadata": {},
   "outputs": [],
   "source": [
    "bg = pd.read_stata(\"PANEL_BUEN_GOBIERNO(2022).dta\")\n",
    "bg = bg[['codmpio', 'ano', 'SGP_educaciontot', 'SGP_educacion_ps', \n",
    "        'SGP_educacion_c', 'SGP_educacion_cg', 'SGP_educacion_cm', 'SGP_saludtot', \n",
    "        'inv_en_salud', 'SGP_pinfancia', \n",
    "        'IGA_atencion_ciud', 'IGA_sisben', \n",
    "        'DF_ahorro', 'DF_desemp_fisc', 'DI_eficacia', 'DI_eficiencia', 'DI_capadmin', 'DI_desemp_int']]\n",
    "bg = bg.rename(columns= {\"ano\": \"date\"})\n",
    "# bg['date'] = bg['date'].dt.year\n",
    "bg = bg.copy()"
   ]
  },
  {
   "cell_type": "markdown",
   "metadata": {},
   "source": [
    "## Historicas"
   ]
  },
  {
   "cell_type": "code",
   "execution_count": 118,
   "metadata": {},
   "outputs": [],
   "source": [
    "ac = pd.read_excel(\"variables_acemoglu.xlsx\")\n",
    "ac.columns = [\"codmpio\", \"dist_creal\", \"petroleo\", \"lat\", \"long\", \"dmagdalena\", \"dcauca\", \"dcosta\"]\n",
    "ac = ac[[\"codmpio\", \"dist_creal\", \"dmagdalena\", \"dcauca\", \"dcosta\"]]"
   ]
  },
  {
   "cell_type": "code",
   "execution_count": 119,
   "metadata": {},
   "outputs": [],
   "source": [
    "geo = pd.read_excel(\"geo_dane.xlsx\")"
   ]
  },
  {
   "cell_type": "code",
   "execution_count": 120,
   "metadata": {},
   "outputs": [],
   "source": [
    "geoh = geo.merge(ac, \"left\", \"codmpio\")"
   ]
  },
  {
   "cell_type": "code",
   "execution_count": 121,
   "metadata": {},
   "outputs": [],
   "source": [
    "# geoh.to_excel(\"geo_hist.xlsx\", index = False)"
   ]
  },
  {
   "cell_type": "code",
   "execution_count": 122,
   "metadata": {},
   "outputs": [],
   "source": [
    "from scipy.spatial.distance import euclidean\n",
    "\n",
    "def encontrar_municipio_mas_cercano(codigo1, lista_codigos, data):\n",
    "    \"\"\"\n",
    "    Encuentra el municipio más cercano a un municipio dado (codigo1) de una lista de municipios.\n",
    "    \n",
    "    :param codigo1: Código del municipio de referencia.\n",
    "    :param lista_codigos: Lista de códigos de municipios para comparar.\n",
    "    :param data: DataFrame con los datos de los municipios.\n",
    "    :return: Código del municipio más cercano.\n",
    "    \"\"\"\n",
    "    # Extraer latitud y longitud del municipio de referencia\n",
    "    municipio_ref = data[data['codmpio'] == codigo1]\n",
    "    if municipio_ref.empty:\n",
    "        return None  # Si el código1 no existe en los datos\n",
    "    \n",
    "    lat_ref, long_ref = municipio_ref.iloc[0]['lat'], municipio_ref.iloc[0]['long']\n",
    "    \n",
    "    # Filtrar los municipios de la lista\n",
    "    municipios_lista = data[data['codmpio'].isin(lista_codigos)]\n",
    "    \n",
    "    # Calcular distancia euclidiana\n",
    "    distancias = municipios_lista.apply(lambda x: euclidean((lat_ref, long_ref), (x['lat'], x['long'])), axis=1)\n",
    "    \n",
    "    # Encontrar el índice del mínimo valor de distancia\n",
    "    min_dist_idx = distancias.idxmin()\n",
    "    \n",
    "    # Devolver el código del municipio más cercano\n",
    "    return municipios_lista.loc[min_dist_idx, 'codmpio'] if not distancias.empty else None\n",
    "\n",
    "vecinos = []\n",
    "notnans1 = geoh[geoh.dist_creal.notna()]\n",
    "nans1 = geoh[geoh.dist_creal.isna()]\n",
    "nans = nans1.codmpio\n",
    "for mpio in nans:\n",
    "    dpto = geoh[(geoh.codmpio==mpio)].coddpto.iloc[0]\n",
    "    lista_candidatos = geoh[(geoh.coddpto==dpto) & (geoh.dist_creal.notna())]\n",
    "    if len(lista_candidatos)>0:\n",
    "        vecino = encontrar_municipio_mas_cercano(mpio, lista_candidatos.codmpio, geoh)\n",
    "        vecinos.append(vecino)\n",
    "    else:\n",
    "        vecino = None\n",
    "        vecinos.append(vecino)\n",
    "    # print(mpio, vecino)\n",
    "    # vecinos.append(vecino)\n",
    "\n",
    "nans1[\"vecino\"] = vecinos\n",
    "\n",
    "\n",
    "def reemplazar_nans_con_vecinos(nans1, notnans1):\n",
    "    for index, row in nans1.iterrows():\n",
    "        if not pd.isna(row['vecino']):\n",
    "            # Buscar la fila del vecino en notnans1\n",
    "            vecino_info = notnans1[notnans1['codmpio'] == row['vecino']].iloc[0]\n",
    "            # Reemplazar NaNs\n",
    "            for col in ['dist_creal', 'dmagdalena', 'dcauca', 'dcosta']:\n",
    "                if pd.isna(row[col]):\n",
    "                    nans1.at[index, col] = vecino_info[col]\n",
    "\n",
    "    return nans1\n",
    "\n",
    "# Ejecutar la función\n",
    "nans1_actualizado = reemplazar_nans_con_vecinos(nans1, notnans1)"
   ]
  },
  {
   "cell_type": "code",
   "execution_count": 123,
   "metadata": {},
   "outputs": [],
   "source": [
    "geohistf = pd.concat([notnans1, nans1_actualizado], axis = 0)\n",
    "geohistf = geohistf.drop(columns = \"vecino\")"
   ]
  },
  {
   "cell_type": "code",
   "execution_count": 124,
   "metadata": {},
   "outputs": [],
   "source": [
    "def imputar_percentil(geohistf):\n",
    "    for column in geohistf.columns:\n",
    "        if geohistf[column].isna().any():\n",
    "            # Calcular el percentil 76 para la columna actual\n",
    "            percentile_76 = np.percentile(geohistf[column].dropna(), 50)\n",
    "            # Imputar este percentil donde haya NaNs\n",
    "            geohistf[column].fillna(percentile_76, inplace=True)\n",
    "    return geohistf\n",
    "\n",
    "# Ejecutar la función\n",
    "geohistf_actualizado = imputar_percentil(geohistf)"
   ]
  },
  {
   "cell_type": "markdown",
   "metadata": {},
   "source": [
    "## Merge"
   ]
  },
  {
   "cell_type": "code",
   "execution_count": 126,
   "metadata": {},
   "outputs": [],
   "source": [
    "df  = pd.merge(ed,cg, \"outer\", [\"codmpio\", \"date\"])\n",
    "df  = pd.merge(df,bg, \"outer\", [\"codmpio\", \"date\"])"
   ]
  },
  {
   "cell_type": "code",
   "execution_count": 127,
   "metadata": {},
   "outputs": [],
   "source": [
    "df = df.merge(geohistf_actualizado, \"left\", \"codmpio\")"
   ]
  },
  {
   "cell_type": "code",
   "execution_count": 128,
   "metadata": {},
   "outputs": [],
   "source": [
    "df.to_csv(\"controles.csv\", index = False)"
   ]
  },
  {
   "cell_type": "code",
   "execution_count": null,
   "metadata": {},
   "outputs": [],
   "source": []
  }
 ],
 "metadata": {
  "kernelspec": {
   "display_name": "base",
   "language": "python",
   "name": "python3"
  },
  "language_info": {
   "codemirror_mode": {
    "name": "ipython",
    "version": 3
   },
   "file_extension": ".py",
   "mimetype": "text/x-python",
   "name": "python",
   "nbconvert_exporter": "python",
   "pygments_lexer": "ipython3",
   "version": "3.8.5"
  },
  "orig_nbformat": 4
 },
 "nbformat": 4,
 "nbformat_minor": 2
}
